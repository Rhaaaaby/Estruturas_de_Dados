{
 "cells": [
  {
   "cell_type": "code",
   "execution_count": 23,
   "metadata": {},
   "outputs": [],
   "source": [
    "class No:\n",
    "    def __init__(self, valor):\n",
    "        self.valor = valor\n",
    "        self.proximo = None"
   ]
  },
  {
   "cell_type": "code",
   "execution_count": null,
   "metadata": {},
   "outputs": [],
   "source": [
    "class Pilha:\n",
    "    def __init__(self):\n",
    "        self.topo = None\n",
    "\n",
    "    #adicionar elementos\n",
    "\n",
    "    def push(self, valor):\n",
    "        novo_no = No(valor)\n",
    "        novo_no.proximo = self.topo\n",
    "        self.topo = novo_no\n",
    "\n",
    "    #eliminar elementos\n",
    "\n",
    "    def pop(self):\n",
    "        if self.topo is not None:\n",
    "            removido = self.topo\n",
    "            self.topo = self.topo.proximo\n",
    "            \n",
    "            return removido.valor\n",
    "        raise Exception(\"Pilha vazia.\")\n",
    "    \n",
    "    #ver elementos\n",
    "\n",
    "    def peek(self):\n",
    "        if self.topo is not None:\n",
    "            return self.topo.valor\n",
    "        raise Exception(\"Pilha vazia.\")\n",
    "    \n",
    "    #verificar se está vazio\n",
    "    \n",
    "    def is_empty(self):\n",
    "        return self.topo is None\n",
    "    \n",
    "    #inverter a pilha\n",
    "\n",
    "    def InverterStrings (self, string):\n",
    "        for char in string:\n",
    "            self.push(char)\n",
    "\n",
    "        invertida = \"\"\n",
    "\n",
    "        while not self.is_empty():\n",
    "            invertida += self.pop()\n",
    "\n",
    "        return invertida"
   ]
  },
  {
   "cell_type": "code",
   "execution_count": 41,
   "metadata": {},
   "outputs": [
    {
     "name": "stdout",
     "output_type": "stream",
     "text": [
      "!odnum ,álO\n",
      "nohtyP\n",
      "sahliP\n"
     ]
    }
   ],
   "source": [
    "desempilhar = Pilha()\n",
    "\n",
    "invertida1 = desempilhar.InverterStrings(\"Olá, mundo!\")\n",
    "invertida2 = desempilhar.InverterStrings(\"Python\")\n",
    "invertida3 = desempilhar.InverterStrings(\"Pilhas\")\n",
    "\n",
    "print(invertida1)\n",
    "print(invertida2)\n",
    "print(invertida3)\n",
    "\n"
   ]
  }
 ],
 "metadata": {
  "kernelspec": {
   "display_name": "Python 3",
   "language": "python",
   "name": "python3"
  },
  "language_info": {
   "codemirror_mode": {
    "name": "ipython",
    "version": 3
   },
   "file_extension": ".py",
   "mimetype": "text/x-python",
   "name": "python",
   "nbconvert_exporter": "python",
   "pygments_lexer": "ipython3",
   "version": "3.13.2"
  }
 },
 "nbformat": 4,
 "nbformat_minor": 2
}
