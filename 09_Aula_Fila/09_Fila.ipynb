{
 "cells": [
  {
   "cell_type": "code",
   "execution_count": 1,
   "id": "dc78e40c",
   "metadata": {},
   "outputs": [],
   "source": [
    "class Node:\n",
    "    def __init__(self, value):\n",
    "        self.value = value\n",
    "        self.next = None"
   ]
  },
  {
   "cell_type": "code",
   "execution_count": 30,
   "id": "ee337fd1",
   "metadata": {},
   "outputs": [],
   "source": [
    "class Queue:\n",
    "    def __init__(self):\n",
    "        self.front = None \n",
    "        self.rear = None\n",
    "\n",
    "    #Método Enqueue para adicionar novos elementos:\n",
    "\n",
    "    def enqueue(self, value):\n",
    "        new_node = Node(value)\n",
    "\n",
    "        if self.front == None:\n",
    "            self.front = self.rear = new_node\n",
    "            return\n",
    "        \n",
    "        self.rear.next = new_node\n",
    "        self.rear = new_node\n",
    "\n",
    "    #Método Dequeue para eliminar elementos da fila:\n",
    "\n",
    "    def dequeue(self):\n",
    "        if self.front == None:\n",
    "            raise Exception(\"A fila está vazia!\")\n",
    "        temp = self.front\n",
    "        self.front = self.front.next \n",
    "\n",
    "        if self.front == None:\n",
    "            self.rear == None\n",
    "        return temp.value\n",
    "    \n",
    "    #Método Peek para visualizar o primeiro elemento:\n",
    "\n",
    "    def peek(self):\n",
    "        if self.front == None:\n",
    "            raise Exception(\"A fila está vazia!\")\n",
    "        return self.front.value\n",
    "    \n",
    "    #Método is_empty: Adicionando laço de condição if para atividade:\n",
    "\n",
    "    def is_empty(self):\n",
    "        if self.front == None:\n",
    "            print(\"a fila está vazia!\")\n",
    "        else:\n",
    "            print(\"Há elementos na fila.\")\n",
    "\n",
    "    #Métdo Display para exibir a fila:\n",
    "\n",
    "    def display_queue(self):\n",
    "        current = self.front\n",
    "        while current != None:\n",
    "            print(current.value, end=\" \")\n",
    "            current = current.next        \n"
   ]
  },
  {
   "cell_type": "code",
   "execution_count": 33,
   "id": "15b48409",
   "metadata": {},
   "outputs": [
    {
     "name": "stdout",
     "output_type": "stream",
     "text": [
      "1 2 3 4 5 6 7 "
     ]
    }
   ],
   "source": [
    "#Testagem da Fila:\n",
    "\n",
    "fila = Queue()\n",
    "\n",
    "fila.enqueue(1)\n",
    "fila.enqueue(2)\n",
    "fila.enqueue(3)\n",
    "fila.enqueue(4)\n",
    "fila.enqueue(5)\n",
    "fila.enqueue(6)\n",
    "fila.enqueue(7)\n",
    "\n",
    "fila.display_queue()"
   ]
  },
  {
   "cell_type": "code",
   "execution_count": 35,
   "id": "376b3b5a",
   "metadata": {},
   "outputs": [
    {
     "name": "stdout",
     "output_type": "stream",
     "text": [
      "2 3 4 5 6 7 "
     ]
    }
   ],
   "source": [
    "#Eliminando um elemento da fila:\n",
    "\n",
    "fila.dequeue()\n",
    "\n",
    "fila.display_queue()"
   ]
  },
  {
   "cell_type": "code",
   "execution_count": 36,
   "id": "ac46b10a",
   "metadata": {},
   "outputs": [
    {
     "data": {
      "text/plain": [
       "2"
      ]
     },
     "execution_count": 36,
     "metadata": {},
     "output_type": "execute_result"
    }
   ],
   "source": [
    "#Visualizando a fila após a modificação:\n",
    "\n",
    "fila.peek()"
   ]
  },
  {
   "cell_type": "code",
   "execution_count": 37,
   "id": "7d6c525d",
   "metadata": {},
   "outputs": [
    {
     "name": "stdout",
     "output_type": "stream",
     "text": [
      "Há elementos na fila.\n"
     ]
    }
   ],
   "source": [
    "fila.is_empty()"
   ]
  }
 ],
 "metadata": {
  "kernelspec": {
   "display_name": "Python 3",
   "language": "python",
   "name": "python3"
  },
  "language_info": {
   "codemirror_mode": {
    "name": "ipython",
    "version": 3
   },
   "file_extension": ".py",
   "mimetype": "text/x-python",
   "name": "python",
   "nbconvert_exporter": "python",
   "pygments_lexer": "ipython3",
   "version": "3.13.2"
  }
 },
 "nbformat": 4,
 "nbformat_minor": 5
}
