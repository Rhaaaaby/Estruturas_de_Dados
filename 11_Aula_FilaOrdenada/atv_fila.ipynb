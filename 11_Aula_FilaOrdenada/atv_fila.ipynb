{
 "cells": [
  {
   "cell_type": "code",
   "execution_count": 7,
   "id": "ab290735",
   "metadata": {},
   "outputs": [],
   "source": [
    "class Node:\n",
    "    def __init__(self, qtd, preco, descricao):\n",
    "        self.qtd = qtd\n",
    "        self.preco = preco\n",
    "        self.descricao = descricao\n",
    "        self.next = None"
   ]
  },
  {
   "cell_type": "code",
   "execution_count": 15,
   "id": "3d532c03",
   "metadata": {},
   "outputs": [],
   "source": [
    "class OrdenedList:\n",
    "    def __init__(self):\n",
    "        self.head = None\n",
    "\n",
    "    # Consulta se a lista está vazia\n",
    "    def is_empty(self):\n",
    "        return self.head is None\n",
    "    \n",
    "    # Inserção de elementos na lista\n",
    "    def insert(self, qtd, preco, descricao):\n",
    "        new_node = Node(qtd, preco, descricao)\n",
    "\n",
    "        if self.is_empty() or descricao <= self.head.descricao:\n",
    "            new_node.next = self.head \n",
    "            self.head = new_node\n",
    "        else:\n",
    "            current = self.head\n",
    "            while current.next is not None and current.next.descricao < descricao:\n",
    "                current = current.next\n",
    "            new_node.next = current.next\n",
    "            current.next = new_node\n",
    "\n",
    "    # Busca de elemento\n",
    "    def search(self, descricao):\n",
    "        current = self.head\n",
    "        while current is not None and current.descricao <= descricao:\n",
    "            if current.descricao == descricao:\n",
    "                return current\n",
    "            current = current.next\n",
    "        return None\n",
    "    \n",
    "    # Remoção\n",
    "    def remove(self, descricao):\n",
    "        if self.is_empty():\n",
    "            return None\n",
    "    \n",
    "        if self.head.descricao == descricao:\n",
    "            removed_node = self.head\n",
    "            self.head = self.head.next\n",
    "            return removed_node\n",
    "        \n",
    "        current = self.head\n",
    "        while current.next is not None and current.next.descricao < descricao:\n",
    "            current = current.next\n",
    "        \n",
    "        if current.next is None or current.next.descricao > descricao:\n",
    "            return None\n",
    "        \n",
    "        removed_node = current.next\n",
    "        current.next = current.next.next\n",
    "        return removed_node\n",
    "\n",
    "    # Exibição da lista - Display\n",
    "    def display(self):\n",
    "        if self.is_empty():\n",
    "            print(\"A lista ordenada está vazia!\")\n",
    "        else:\n",
    "            current = self.head\n",
    "            while current:\n",
    "                print(f\"Qtd: {current.qtd}, Preço: {current.preco}, Descrição: {current.descricao}\")\n",
    "                current = current.next"
   ]
  },
  {
   "cell_type": "code",
   "execution_count": 18,
   "id": "813af248",
   "metadata": {},
   "outputs": [
    {
     "name": "stdout",
     "output_type": "stream",
     "text": [
      "Qtd: 2, Preço: 30, Descrição: abacate\n",
      "Qtd: 20, Preço: 15, Descrição: banana\n",
      "Qtd: 12, Preço: 20, Descrição: carambola\n",
      "Qtd: 10, Preço: 15, Descrição: damasco\n",
      "Qtd: 5, Preço: 30, Descrição: framboesa\n"
     ]
    }
   ],
   "source": [
    "#Testagem Inserção\n",
    "\n",
    "lo = OrdenedList()\n",
    "\n",
    "lo.insert(2, 30, \"abacate\")\n",
    "lo.insert(12, 20, \"carambola\")\n",
    "lo.insert(20, 15, \"banana\")\n",
    "lo.insert(5, 30, \"framboesa\")\n",
    "lo.insert(10, 15, \"damasco\")\n",
    "\n",
    "lo.display()\n"
   ]
  },
  {
   "cell_type": "code",
   "execution_count": null,
   "id": "dd418461",
   "metadata": {},
   "outputs": [
    {
     "name": "stdout",
     "output_type": "stream",
     "text": [
      "produto encontrado: banana, 20, 15\n"
     ]
    }
   ],
   "source": [
    "#Testagem busca\n",
    "\n",
    "result = lo.search(\"banana\")\n",
    "\n",
    "if result:\n",
    "    print(f\"produto encontrado: {result.descricao}, {result.qtd}, {result.preco}\")\n",
    "else:\n",
    "    print(f\"Produto não encontrado.\")\n",
    "\n"
   ]
  },
  {
   "cell_type": "code",
   "execution_count": 26,
   "id": "400c242c",
   "metadata": {},
   "outputs": [
    {
     "name": "stdout",
     "output_type": "stream",
     "text": [
      "Qtd: 2, Preço: 30, Descrição: abacate\n",
      "Qtd: 20, Preço: 15, Descrição: banana\n",
      "Qtd: 12, Preço: 20, Descrição: carambola\n",
      "Qtd: 10, Preço: 15, Descrição: damasco\n"
     ]
    }
   ],
   "source": [
    "#testagem remoção\n",
    "\n",
    "lo.remove(\"framboesa\")\n",
    "\n",
    "lo.display()"
   ]
  }
 ],
 "metadata": {
  "kernelspec": {
   "display_name": "Python 3",
   "language": "python",
   "name": "python3"
  },
  "language_info": {
   "codemirror_mode": {
    "name": "ipython",
    "version": 3
   },
   "file_extension": ".py",
   "mimetype": "text/x-python",
   "name": "python",
   "nbconvert_exporter": "python",
   "pygments_lexer": "ipython3",
   "version": "3.13.2"
  }
 },
 "nbformat": 4,
 "nbformat_minor": 5
}
