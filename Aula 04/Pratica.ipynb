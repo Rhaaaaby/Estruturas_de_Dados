{
 "cells": [
  {
   "cell_type": "code",
   "execution_count": 2,
   "metadata": {},
   "outputs": [],
   "source": [
    "class Node: \n",
    "    def __init__(self, qtd, preco, descricao):\n",
    "        self.qtd = qtd\n",
    "        self.preco = preco \n",
    "        self.descricao = descricao\n",
    "        self.next = None"
   ]
  },
  {
   "cell_type": "code",
   "execution_count": 16,
   "metadata": {},
   "outputs": [],
   "source": [
    "class LinkedList: \n",
    "    def __init__(self):\n",
    "        self.head = None\n",
    "\n",
    "    def inserir_elementos(self, qtd, preco, descricao):\n",
    "        new_node = Node(qtd, preco, descricao)\n",
    "        last_node = self.head \n",
    "\n",
    "        if self.head is None:\n",
    "            self.head = new_node\n",
    "            return \n",
    "        while last_node.next:\n",
    "            last_node = last_node.next\n",
    "        last_node.next = new_node\n",
    "            \n",
    "\n",
    "    def exibir_lista(self):\n",
    "        corrente = self.head\n",
    "        while corrente:\n",
    "            print(f\"Quantidade: {corrente.qtd}, Preço: {corrente.preco}, Descrição: {corrente.descricao}\")\n",
    "            corrente = corrente.next\n",
    "\n",
    "    def remover_items_duplicados(self):\n",
    "        visto = set()\n",
    "        corrente = self.head \n",
    "        antes = None \n",
    "\n",
    "        while corrente: \n",
    "            chave = (corrente.qtd, corrente.preco, corrente.descricao)\n",
    "\n",
    "            if chave in visto: \n",
    "                antes.next = corrente.next\n",
    "            else:\n",
    "                visto.add(chave)\n",
    "                antes = corrente \n",
    "\n",
    "            corrente = corrente.next\n"
   ]
  },
  {
   "cell_type": "code",
   "execution_count": 18,
   "metadata": {},
   "outputs": [
    {
     "name": "stdout",
     "output_type": "stream",
     "text": [
      "Quantidade: 1, Preço: 30, Descrição: Arroz\n",
      "Quantidade: 2, Preço: 40, Descrição: feijão\n",
      "Quantidade: 5, Preço: 60, Descrição: macarrão\n"
     ]
    }
   ],
   "source": [
    "lista = LinkedList()\n",
    "\n",
    "lista.inserir_elementos(1, 30, \"Arroz\")\n",
    "lista.inserir_elementos(1,30, \"Arroz\")\n",
    "lista.inserir_elementos(2,40, \"feijão\")\n",
    "lista.inserir_elementos(5, 60, \"macarrão\")\n",
    "lista.inserir_elementos(5, 60, \"macarrão\")\n",
    "\n",
    "lista.remover_items_duplicados()\n",
    "\n",
    "lista.exibir_lista()\n"
   ]
  }
 ],
 "metadata": {
  "kernelspec": {
   "display_name": "Python 3",
   "language": "python",
   "name": "python3"
  },
  "language_info": {
   "codemirror_mode": {
    "name": "ipython",
    "version": 3
   },
   "file_extension": ".py",
   "mimetype": "text/x-python",
   "name": "python",
   "nbconvert_exporter": "python",
   "pygments_lexer": "ipython3",
   "version": "3.13.2"
  }
 },
 "nbformat": 4,
 "nbformat_minor": 2
}
